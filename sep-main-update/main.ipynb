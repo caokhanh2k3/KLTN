{
 "cells": [
  {
   "cell_type": "code",
   "execution_count": null,
   "metadata": {},
   "outputs": [],
   "source": [
    "# !pip install numpy==1.26.4\n",
    "# !pip install openai==1.63.2\n",
    "# !pip install tenacity==8.2.3\n",
    "# !pip install tiktoken==0.6.0\n",
    "# !pip install transformers==4.34.1\n",
    "# !pip install pandas==2.2.0\n",
    "# !pip install scikit-learn==1.4.0\n",
    "# !pip install torch\n",
    "# !pip install bitsandbytes==0.42.0\n",
    "# !pip install datasets==2.14.7\n",
    "# !pip install sentencepiece\n",
    "# !pip install peft==0.6.2\n",
    "# !pip install evaluate==0.4.1\n",
    "# !pip install trl==0.7.1\n",
    "# !pip install protobuf==4.25.2\n",
    "# !pip install python-dotenv\n",
    "# !pip install pandas_ta\n",
    "# !pip install ollama\n",
    "# !pip install sentencepiece\n",
    "# !pip install transformers\n",
    "# !pip install bitsandbytes --no-cache-dir"
   ]
  },
  {
   "cell_type": "code",
   "execution_count": null,
   "metadata": {},
   "outputs": [],
   "source": [
    "# !pip uninstall torch torchvision torchaudio -y\n",
    "# !pip install torch==2.2.0+cu121 torchvision torchaudio --index-url https://download.pytorch.org/whl/cu121"
   ]
  },
  {
   "cell_type": "code",
   "execution_count": 3,
   "metadata": {},
   "outputs": [],
   "source": [
    "import os\n",
    "import pandas as pd\n",
    "import pandas_ta as ta  # Sử dụng pandas_ta vì dễ cài đặt và tích hợp với pandas\n",
    "import numpy as np"
   ]
  },
  {
   "cell_type": "code",
   "execution_count": 16,
   "metadata": {},
   "outputs": [],
   "source": [
    "\n",
    "def format_technical_indicators(row):\n",
    "    \"\"\"\n",
    "    Chuyển đổi một dòng của DataFrame thành văn bản, bỏ qua giá trị NaN.\n",
    "\n",
    "    Args:\n",
    "        row (pd.Series): Một dòng của DataFrame chứa các chỉ số kỹ thuật.\n",
    "\n",
    "    Returns:\n",
    "        str: Văn bản chứa chỉ số kỹ thuật, mỗi dòng cách nhau bởi '\\n'.\n",
    "    \"\"\"\n",
    "    lines = []\n",
    "    \n",
    "    for col, value in row.items():\n",
    "        if pd.notna(value):  # Bỏ qua nếu giá trị là NaN\n",
    "            lines.append(f\"{col}: {value:,}\")  # Định dạng số với dấu phẩy\n",
    "    \n",
    "    return \"\\n\".join(lines)  # Kết hợp các dòng thành văn bản\n",
    "\n",
    "\n",
    "# Đọc file CSV vào DataFrame\n",
    "data = pd.read_csv(\"data_sample2.csv\")\n",
    "\n",
    "\n",
    "def add_technical_indicator(data):\n",
    "    # Lấy danh sách các giá trị duy nhất của cột \"ticker\"\n",
    "    unique_tickers = data[\"ticker\"].unique()\n",
    "    unique_tickers\n",
    "\n",
    "    technical_indicator_dir = \"data/sample_price/technical_indicator/\"\n",
    "    # DataFrame để lưu kết quả cuối cùng\n",
    "    final_df = pd.DataFrame()\n",
    "\n",
    "\n",
    "    for file_name in unique_tickers:\n",
    "\n",
    "        technical_indicator_path = os.path.join(technical_indicator_dir, file_name + \".csv\")\n",
    "\n",
    "        df_technical_indicator = pd.read_csv(technical_indicator_path)\n",
    "\n",
    "        # Loại bỏ cột 'Date' để chỉ giữ các chỉ báo kỹ thuật\n",
    "        df_technical_indicator[\"technical_indicator\"] = df_technical_indicator.drop(columns=[\"Date\"]).apply(format_technical_indicators, axis=1)\n",
    "\n",
    "        # Thêm cột \"ticker\" với giá trị file_name\n",
    "        df_technical_indicator[\"ticker\"] = file_name\n",
    "\n",
    "        # Hiển thị kết quả  \n",
    "        df_technical_indicator = df_technical_indicator[[\"ticker\", \"Date\", \"technical_indicator\"]].rename(columns={\"Date\": \"date\"})\n",
    "        # Merge theo 2 cột \"ticker\" và \"Date\"\n",
    "        merged_df = pd.merge(data, df_technical_indicator, on=[\"ticker\", \"date\"], how=\"inner\")\n",
    "\n",
    "        # Cộng dồn kết quả\n",
    "        final_df = pd.concat([final_df, merged_df], ignore_index=True)\n",
    "\n",
    "    return final_df\n",
    "\n",
    "    \n",
    "\n",
    "data = add_technical_indicator(data)\n",
    "data\n",
    "\n",
    "data.to_csv(\"data_sample2.csv\", index=False)\n"
   ]
  },
  {
   "cell_type": "code",
   "execution_count": 25,
   "metadata": {},
   "outputs": [
    {
     "name": "stdout",
     "output_type": "stream",
     "text": [
      "Đang mở: AAPL.csv\n",
      "Đã lưu: data/sample_price/technical_indicator/AAPL.csv\n",
      "Đang mở: ABBV.csv\n",
      "Đã lưu: data/sample_price/technical_indicator/ABBV.csv\n",
      "Đang mở: AEP.csv\n",
      "Đã lưu: data/sample_price/technical_indicator/AEP.csv\n",
      "Đang mở: AMT.csv\n",
      "Đã lưu: data/sample_price/technical_indicator/AMT.csv\n",
      "Đang mở: AMZN.csv\n",
      "Đã lưu: data/sample_price/technical_indicator/AMZN.csv\n",
      "Đang mở: APD.csv\n",
      "Đã lưu: data/sample_price/technical_indicator/APD.csv\n",
      "Đang mở: AVGO.csv\n",
      "Đã lưu: data/sample_price/technical_indicator/AVGO.csv\n",
      "Đang mở: BABA.csv\n",
      "Đã lưu: data/sample_price/technical_indicator/BABA.csv\n",
      "Đang mở: BAC.csv\n",
      "Đã lưu: data/sample_price/technical_indicator/BAC.csv\n",
      "Đang mở: BHP.csv\n",
      "Đã lưu: data/sample_price/technical_indicator/BHP.csv\n",
      "Đang mở: BRK-A.csv\n",
      "Đã lưu: data/sample_price/technical_indicator/BRK-A.csv\n",
      "Đang mở: CAT.csv\n",
      "Đã lưu: data/sample_price/technical_indicator/CAT.csv\n",
      "Đang mở: CCI.csv\n",
      "Đã lưu: data/sample_price/technical_indicator/CCI.csv\n",
      "Đang mở: CMCSA.csv\n",
      "Đã lưu: data/sample_price/technical_indicator/CMCSA.csv\n",
      "Đang mở: COP.csv\n",
      "Đã lưu: data/sample_price/technical_indicator/COP.csv\n",
      "Đang mở: COST.csv\n",
      "Đã lưu: data/sample_price/technical_indicator/COST.csv\n",
      "Đang mở: CVX.csv\n",
      "Đã lưu: data/sample_price/technical_indicator/CVX.csv\n",
      "Đang mở: D.csv\n",
      "Đã lưu: data/sample_price/technical_indicator/D.csv\n",
      "Đang mở: DIS.csv\n",
      "Đã lưu: data/sample_price/technical_indicator/DIS.csv\n",
      "Đang mở: DUK.csv\n",
      "Đã lưu: data/sample_price/technical_indicator/DUK.csv\n",
      "Đang mở: EQIX.csv\n",
      "Đã lưu: data/sample_price/technical_indicator/EQIX.csv\n",
      "Đang mở: GOOG.csv\n",
      "Đã lưu: data/sample_price/technical_indicator/GOOG.csv\n",
      "Đang mở: HD.csv\n",
      "Đã lưu: data/sample_price/technical_indicator/HD.csv\n",
      "Đang mở: HON.csv\n",
      "Đã lưu: data/sample_price/technical_indicator/HON.csv\n",
      "Đang mở: JNJ.csv\n",
      "Đã lưu: data/sample_price/technical_indicator/JNJ.csv\n",
      "Đang mở: JPM.csv\n",
      "Đã lưu: data/sample_price/technical_indicator/JPM.csv\n",
      "Đang mở: KO.csv\n",
      "Đã lưu: data/sample_price/technical_indicator/KO.csv\n",
      "Đang mở: LLY.csv\n",
      "Đã lưu: data/sample_price/technical_indicator/LLY.csv\n",
      "Đang mở: LMT.csv\n",
      "Đã lưu: data/sample_price/technical_indicator/LMT.csv\n",
      "Đang mở: MA.csv\n",
      "Đã lưu: data/sample_price/technical_indicator/MA.csv\n",
      "Đang mở: META.csv\n",
      "Đã lưu: data/sample_price/technical_indicator/META.csv\n",
      "Đang mở: MSFT.csv\n",
      "Đã lưu: data/sample_price/technical_indicator/MSFT.csv\n",
      "Đang mở: NEE.csv\n",
      "Đã lưu: data/sample_price/technical_indicator/NEE.csv\n",
      "Đang mở: NVDA.csv\n",
      "Đã lưu: data/sample_price/technical_indicator/NVDA.csv\n",
      "Đang mở: PEP.csv\n",
      "Đã lưu: data/sample_price/technical_indicator/PEP.csv\n",
      "Đang mở: PFE.csv\n",
      "Đã lưu: data/sample_price/technical_indicator/PFE.csv\n",
      "Đang mở: PG.csv\n",
      "Đã lưu: data/sample_price/technical_indicator/PG.csv\n",
      "Đang mở: PLD.csv\n",
      "Đã lưu: data/sample_price/technical_indicator/PLD.csv\n",
      "Đang mở: PSA.csv\n",
      "Đã lưu: data/sample_price/technical_indicator/PSA.csv\n",
      "Đang mở: RIO.csv\n",
      "Đã lưu: data/sample_price/technical_indicator/RIO.csv\n",
      "Đang mở: SHEL.csv\n",
      "Đã lưu: data/sample_price/technical_indicator/SHEL.csv\n",
      "Đang mở: SHW.csv\n",
      "Đã lưu: data/sample_price/technical_indicator/SHW.csv\n",
      "Đang mở: SO.csv\n",
      "Đã lưu: data/sample_price/technical_indicator/SO.csv\n",
      "Đang mở: TM.csv\n",
      "Đã lưu: data/sample_price/technical_indicator/TM.csv\n",
      "Đang mở: TSLA.csv\n",
      "Đã lưu: data/sample_price/technical_indicator/TSLA.csv\n",
      "Đang mở: TSM.csv\n",
      "Đã lưu: data/sample_price/technical_indicator/TSM.csv\n",
      "Đang mở: TTE.csv\n",
      "Đã lưu: data/sample_price/technical_indicator/TTE.csv\n",
      "Đang mở: UNH.csv\n",
      "Đã lưu: data/sample_price/technical_indicator/UNH.csv\n",
      "Đang mở: UNP.csv\n",
      "Đã lưu: data/sample_price/technical_indicator/UNP.csv\n",
      "Đang mở: UPS.csv\n",
      "Đã lưu: data/sample_price/technical_indicator/UPS.csv\n",
      "Đang mở: V.csv\n",
      "Đã lưu: data/sample_price/technical_indicator/V.csv\n",
      "Đang mở: VALE.csv\n",
      "Đã lưu: data/sample_price/technical_indicator/VALE.csv\n",
      "Đang mở: VZ.csv\n",
      "Đã lưu: data/sample_price/technical_indicator/VZ.csv\n",
      "Đang mở: WMT.csv\n",
      "Đã lưu: data/sample_price/technical_indicator/WMT.csv\n",
      "Đang mở: XOM.csv\n",
      "Đã lưu: data/sample_price/technical_indicator/XOM.csv\n"
     ]
    }
   ],
   "source": [
    "## Tính Chỉ Báo Kỹ Thuật\n",
    "\n",
    "\n",
    "def calculate_technical_indicators(data):\n",
    "    \"\"\"\n",
    "    Tính toán các chỉ số kỹ thuật phổ biến cho dữ liệu chứng khoán.\n",
    "\n",
    "    Args:\n",
    "        data (pandas.DataFrame): DataFrame chứa dữ liệu chứng khoán (Open, High, Low, Close, Volume).\n",
    "                                 Yêu cầu các cột 'Open', 'High', 'Low', 'Close', 'Volume'.\n",
    "\n",
    "    Returns:\n",
    "        pandas.DataFrame: DataFrame chứa dữ liệu gốc và các chỉ số kỹ thuật.\n",
    "    \"\"\"\n",
    "\n",
    "    # 1. Moving Averages\n",
    "    data['SMA_5'] = ta.sma(data['Close'], length=5)\n",
    "    data['EMA_5'] = ta.ema(data['Close'], length=5)\n",
    "\n",
    "    # 2. MACD\n",
    "    macd = ta.macd(data['Close'], fast=12, slow=26, signal=9)\n",
    "    data['MACD'] = macd['MACD_12_26_9']  # Lấy đường MACD\n",
    "    data['MACD_SIGNAL'] = macd['MACDs_12_26_9']  # Lấy đường tín hiệu\n",
    "    data['MACD_HIST'] = macd['MACDh_12_26_9']  # Lấy histogram\n",
    "\n",
    "    # 3. RSI\n",
    "    data['RSI'] = ta.rsi(data['Close'], length=5)\n",
    "\n",
    "    # 4. Bollinger Bands\n",
    "    bbands = ta.bbands(data['Close'], length=20, std=2)\n",
    "    data['BB_UPPER'] = bbands['BBU_20_2.0']\n",
    "    data['BB_LOWER'] = bbands['BBL_20_2.0']\n",
    "    data['BB_MIDDLE'] = bbands['BBM_20_2.0']\n",
    "\n",
    "    # 5. Volume Indicators (OBV)\n",
    "    data['OBV'] = ta.obv(data['Close'], data['Volume'])\n",
    "\n",
    "    # 6. ADX\n",
    "    adx = ta.adx(data['High'], data['Low'], data['Close'], length=14)\n",
    "    data['ADX'] = adx['ADX_14']\n",
    "    data['DMP'] = adx['DMP_14']  # Positive Directional Movement\n",
    "    data['DMN'] = adx['DMN_14']  # Negative Directional Movement\n",
    "\n",
    "    data = data.drop(columns = [\"Open\",\"High\",\"Low\",\"Close\", \"Adj Close\",\"Volume\"]) \n",
    "    return data.round(2)\n",
    "\n",
    "\n",
    "folder_path = 'data/sample_price/raw/'\n",
    "technical_indicator_folder = 'data/sample_price/technical_indicator/'  # Thư mục lưu file sau khi xử lý\n",
    "# Tạo thư mục technical_indicator_folder nếu chưa có\n",
    "os.makedirs(technical_indicator_folder, exist_ok=True)\n",
    "\n",
    "\n",
    "# Kiểm tra thư mục có tồn tại không\n",
    "if os.path.exists(folder_path):\n",
    "    # Duyệt qua từng file trong thư mục\n",
    "    for file in os.listdir(folder_path):\n",
    "        file_path = os.path.join(folder_path, file)\n",
    "        technical_indicator_path = os.path.join(technical_indicator_folder, file)  # Đường dẫn file mới\n",
    "\n",
    "        # Kiểm tra nếu file là CSV\n",
    "        if file.endswith('.csv'):\n",
    "            print(f\"Đang mở: {file}\")\n",
    "\n",
    "            # Đọc file CSV vào DataFrame\n",
    "            df = pd.read_csv(file_path)\n",
    "            # print(df.head())  # In 5 dòng đầu của file\n",
    "\n",
    "            df = calculate_technical_indicators(df)\n",
    "\n",
    "            # Ghi file vào thư mục processed\n",
    "            df.to_csv(technical_indicator_path, index=False)\n",
    "            print(f\"Đã lưu: {technical_indicator_path}\")\n",
    "        # break\n",
    "else:\n",
    "    print(\"Thư mục không tồn tại.\")"
   ]
  },
  {
   "cell_type": "code",
   "execution_count": null,
   "metadata": {},
   "outputs": [
    {
     "name": "stdout",
     "output_type": "stream",
     "text": [
      "None\n",
      "Args in experiment:\n",
      "Loading Train Agents...\n",
      "AMZN = ticker, tweet_data =  ['RT @IBDinvestors: $AMZN \"With this... we had to back away yesterday bc it broke our expectations by falling below the 50-day. Don\\'t get dis…', 'RT @DeItaOne: $AMZN BANS N95, SURGICAL MASK SALES TO GENERAL PUBLIC: RECODE', \"And that's bullish, GTFOH $ES $ES_F $SPX $SPY $QQQ $IWM $VXX $VIX $AAPL $AMZN $MSFT https://t.co/TnRBO8RfWm\", 'RT @DeItaOne: AMAZON SAYS IT HAS FILLED 80,000 OF THE 100,000 JOBS IT ANNOUNCED LAST MONTH\\n$AMZN', 'BOOM 💰💰 Come Join US \\n$fb $aapl $amzn $nflx $googl $bidu $roku $spy $amd $nvda $tsla $ba $baba $shop For  Daily Powerful Watchlist, Swing &amp; Day Option Trading Alerts  Paypal monthly link in bio, $149.99 DM for biweekly link $84.99 #trading #optionstrader #Money https://t.co/eULM8jNbkw', 'RT @arnabch01: @FriseSally @Marinella_Maria @MariangelaSant8 @sminaev2015 @angelicagallegs @YukariKingdom18 @mhall55nine @eoff_sylvia @Mont…', \"RT @OphirGottlieb: $AMZN $AAPL You can finally buy Amazon Prime shows and movies in-app on Apple devices, after Amazon bypasses Apple's 30%…\", 'RT @aaaamhim: $NSPX OVERSOLD #BIOTECH with cancer PATENT. $1 runner?💸📈 #STOCKS #blockchain #Crypto #bitcoin #XRP #ico #startup $TWTR $DWDP…', 'Market Risk Elevated: Using Smarter Stop-Losses to Protect Yourself https://t.co/r5b29AI3wT $SPY $QQQ $DJIA $DIA #stockmarket #investing #finance #stocks #gold #silver $SLV $TWTR $GLD $FB $TLT $AAPL $TSLA $AMZN $NFLX $AMD $INTC #economy \\n@SmartStops', '$SPY $MSFT $AMZN $FB $SBUX $JPM $CMG $JNJ $BABA $NKE $CCL $UNH $NVDA $DIS $VZ $TSLA $QQQ $MSI $WMT $NOW $NFLX $DECK $MELI $BKNG $PLNT $BA $CCL $WYNN $RCL $AAL $OXY $XOM https://t.co/2lY1bp5LRq', 'Lawmakers, unions heap more pressure on Amazon $AMZN #coronavirus #COVID2019 https://t.co/BBOMfVd6hf', 'RT @DeItaOne: AMAZON SAYS IT WILL ROLL OUT MASKS, TEMPERATURE CHECKS FOR U.S. AND EUROPEAN STAFF BY NEXT WEEK\\n$AMZN', \"RT @caetuscap: *JEFF BEZOS GIVES $100M GIFT TO FEEDING AMERICA  $AMZN\\n\\nthat's more like it 🇺🇸\", 'RT @garrytan: Peter Thiel grilling Eric Schmidt (2012)\\n\\n🏭 Google isn’t a tech co anymore\\n🏦 It’s a tech holding co with $50B in cash and no…', 'RT @TheStreet: Amazon $AMZN will roll out temperature checks and face masks for staff at all its U.S. and European warehouses and Whole Foo…', 'RT @LiveSquawk: #COVID19 $AMZN | Amazon Is Banning The Sale Of N95 And Surgical Masks To The General Public - ReCode\\nhttps://t.co/2efJDdDC2B', \"$AMZN has filled 80,000 jobs in the span of a few weeks, part of a hiring spree to add 100,000 workers to meet soaring demand in the wake of the coronavirus pandemic. The only ones that will be left standing $COST $WMT and I'm adding $TGT\", 'CIOs expect lower PC, higher security spending - Instinet https://t.co/Qid0aY6pme $AMZN, $MSFT, $INTC, $AMD, $NVDA, $DELL, $CSCO, $HPE Great Dividend Stock BUY INTC!', 'RT @HedgeMind: During 2008 financial crisis from high to low:\\n$AMZN   -55% \\n$AAPL     -55%\\n$MSFT     -60%\\n$GOOGL -63% \\n...\\n\\nOf course then,…', 'RT @11Graphs: ★☆ Largest U.S. #Stocks ☆★\\n\\n(5/9)\\nBest performing by 52-Weeks Stock Return:\\n1. 🇺🇸 NVIDIA $NVDA: +39.8%\\n2. 🇺🇸 MICROSOFT $MSFT:…', 'RT @the_chart_life: Man, looking back at some of these charts from just 6-7 weeks ago, all you can do is laugh. I remember $AMZN breaking o…', 'RT @carlquintanilla: Amazon is partnering with #SXSW2020 to host an on-line festival. Filmmakers who had been scheduled to screen films in…', '$CDEV premarket gift Hedgefunds LOADING💸📈 $AAPL $AMD $AMRN $AAL $BAC $AMZN $MSFT $BA $ABT $TSLA $X $NVDA $GE $DIS $CCL $UBER $DAL $NFLX $FB $T $F $MU $SQ $M $ZM $XOM $GILD $ROKU $UAL $JPM $ABBV $FCX $SNAP $BABA $WFC $RCL $BB $HSBC $LYG $TEVA $C $OXY $JNJ $LYFT $LK $SBUX $BA $M https://t.co/UFtiGgmsSP', '*AMAZON BANS N95, SURGICAL MASK SALES TO GENERAL PUBLIC: RECODE  $AMZN', 'RT @SusanLiTV: ‘He’s Not Smart or Articulate’ \\n\\n#ViceNews obtaining internal #Amazon memo proposing to smear #AmazonStrike leader $amzn', \"RT @realwillmeade: This Bezos story tonight is incredible \\nI mean is Amazon $AMZN literally just the world's largest sweat shop.\"]\n",
      "tweets len =  26\n",
      "tweets len =  20\n",
      "2020-04-02 00:00:00\n",
      "AMZN = ticker, tweet_data =  ['$AMZN NEW ARTICLE : Exclusive: Amazon to delay marketing event Prime Day due to coronavirus https://t.co/viqj3LWWAr Get all the latest $AMZN related news here : https://t.co/OgSjJfshVt https://t.co/RINAla9dOx', 'RT @TrendSpider: $AMZN #AMZN Anchored VWAP still holding\\n\\nhttps://t.co/LhkiRTSd8K', 'Hot and Fresh Charts 4-3-2020 https://t.co/gjQA51igO8 $SPY $QQQ $DJIA $DIA #stockmarket #investing #finance #stocks #gold #silver $SLV $TWTR $GLD $FB $TLT $AAPL $TSLA $AMZN $NFLX $AMD $INTC #economy $BA $BAC $CMG $TLRY $CGC $APHA $ACB $NIO $MU $NVDA $CRON $HEXO #stockcharts $GDX', '#unemployment #CoronaVirus $spx $es_f $AAPL #daytrading #investing #futures $spy $nasdaq $zb_f $nq_f $cl_f $GC_f $XOM $ibm $amzn $googl $AVGO $WFM $cvs $bac $td $WMT $COST $WFC $jnj $GE $GS $tsla $utx $fb $JPM $dis $MCD $mo $NKE $TGT $RHT $V $gc_f $BTC https://t.co/aQmF6aDD8z', 'RT @DeItaOne: CANADA HAS SIGNED AGREEMENT WITH AMAZON CANADA TO MANAGE DISTRIBUTION OF MEDICAL EQUIPMENT AROUND THE COUNTRY -PRIME MINISTER…', '$AMZN daily range was 1889-1926, w/ close at 1905. Stayed away from her all day, but did finally jump in for one trade on that 1890 support on way back up and rode x5 1885C for 50% profit to close the day. https://t.co/pAzO3Nmpge', 'BOOM 💰💰 Come Join US \\n$fb $aapl $amzn $nflx $googl $bidu $roku $spy $amd $nvda $tsla $ba $baba $shop For  Daily Powerful Watchlist, Swing &amp; Day Option Trading Alerts  Paypal monthly link in bio, $149.99 DM for biweekly link $84.99 #trading #optionstrader #Money https://t.co/W3jn0EgqzY', 'RT @gualestrit: Amazon aplazará el Prime Day hasta, al menos, agosto -- Reuters\\n\\n$AMZN', 'RT @arnabch01: @FriseSally @Marinella_Maria @MariangelaSant8 @sminaev2015 @angelicagallegs @YukariKingdom18 @mhall55nine @eoff_sylvia @Mont…', '$SPX - LONG $SPX  2480 CALL.  Stop is at 2460.\\n\\nHigh risk trade \\n\\n$SPX $SPY $AMZN $AAPL $AMD $FB $SHOP $BYND $SPOT $GOOGL $MA $BABA  $SBUX $TWLO $MSFT $TSLA $PYPL $XLNX  $LRCX $BA $V $CMG $CAT $INTC $NFLX $JPM $UNH $C $BAC $GS $NQ_F $ES', 'RT @KingMidasAu1: $SPOM .10 breaking! back up to previous and brand new highs no doubt\\n\\n$xrp $btc $spx $spy $goog $amzn $nvda $alpp $baba $…', 'https://t.co/qLzaicbLIu $AMZN Receives “Outperform” Rating from BMO Capital Markets https://t.co/dim2HgC04k', 'Canada signs agreement with Amazon Canada to distribute medical equipment $AMZN https://t.co/k3RX7xYTqr', \"Word is getting out. You all want DD, we're bringing to you. $INQD set to take the OTC by storm!!! \\n\\n$CPE $ABT $ILMN $BRKK $ABCE $CHTR $BIEI $BA $IGEX $MFA $KWBT $TPTW $CYDY $LGNDZ $HD $AMD $MU $CTYX $DECN $TOPS $AAPL $VVUS $TMDI $MSFT $GTE $TSLA $FB $AMZN $BABA $PCTL $INTC $CSC https://t.co/0wLGztJsl4\", \"RT @DeItaOne: EXCLUSIVE-AMAZON INC TO DELAY MARKETING EVENT PRIME DAY 'AT LEAST' UNTIL AUGUST -DOCUMENT\\n$AMZN\", 'RT @truthntrading: Premarket Insight 03-04-20 | Where 2 Next? | $spy $aapl $zm $gild $tlt $gld $msft $nflx $amzn $uso $xle https://t.co/FEl…', 'RT @aaaamhim: $NSPX #biotech $100 million financing &amp; mkt cap at $40k? CANCER PATENT💸🚀 #startup #crypto #Blockchain\\n#bitcoin #Biotech #ICO…']\n",
      "tweets len =  17\n",
      "tweets len =  17\n",
      "2020-04-03 00:00:00\n",
      "AMZN = ticker, tweet_data =  ['$AMZN NEW ARTICLE : Amazon in contact with coronavirus test makers as it plans pandemic response https://t.co/bu9NkNQYWx Get all the latest $AMZN related news here : https://t.co/OgSjJfshVt https://t.co/vPHfH2pbmu', 'RT @89bcb18c1db14db: ~Pandemic Watchlist~\\n\\n- Social distancing\\n$GOOG \\n$FB\\n$NFLX\\n$CGC\\n\\n- Remote working\\n$ZM\\n$MSFT\\n$WORK\\n\\n- Household goods a…', 'RT @arnabch01: @FriseSally @Marinella_Maria @MariangelaSant8 @sminaev2015 @angelicagallegs @YukariKingdom18 @mhall55nine @eoff_sylvia @Mont…', 'RT @PSuiteNetwork: Driverless Trucks, Uber and Lyft Rides, Drone Deliveries - Coming Much Sooner Than We Ever Thought - It Might Even Save…']\n",
      "tweets len =  4\n",
      "tweets len =  4\n",
      "2020-04-04 00:00:00\n",
      "AMZN = ticker, tweet_data =  [\"$AMZN $GOOG $GOOGL NEW ARTICLE : Here's the Top Stock to Buy with Your Coronavirus Stimulus Check https://t.co/yfPkqyNODP Get all the latest $AMZN related news here : https://t.co/OgSjJfshVt https://t.co/v72Egwn6Vj\", 'RT @arnabch01: @FriseSally @Marinella_Maria @MariangelaSant8 @sminaev2015 @angelicagallegs @YukariKingdom18 @mhall55nine @eoff_sylvia @Mont…', 'RT @InvertDividend: USA 🇺🇸. Sin compras. Alguna se acerca ligeramente a objetivo.  \\n\\nRadar $MMM (110$), $TROW (75$), $SBUX (48$), $DIS (80$…']\n",
      "tweets len =  3\n",
      "tweets len =  3\n",
      "2020-04-05 00:00:00\n",
      "AMZN = ticker, tweet_data =  ['ABOUT TO GO DOWN IN 10MIN. Come join $SPY $QQQ $AAPL $BABA $NVDA $TSLA $AMD $TWTR $FB $MU $AMZN $NFLX $MSFT $AMZN https://t.co/6l200EzjlZ https://t.co/bT0CyXQWKP', 'RT @DeItaOne: Most invested stocks by UK clients on the etoro investment platform - March 2020\\n$TSLA $AMZN $MSFT https://t.co/SPfeQOhXtX', 'RT @arnabch01: @FriseSally @Marinella_Maria @MariangelaSant8 @sminaev2015 @angelicagallegs @YukariKingdom18 @mhall55nine @eoff_sylvia @Mont…', 'RT @gualestrit: Número de visitas a https://t.co/XRONp78lxu en las últimas semanas, comparado con el mismo periodo de 2019.\\n\\n$AMZN\\n\\nhttps:/…', 'RT @alert_options: BOOOM this is how we do it. Our members are killing it...Join us for Transparency, Daily Powerful Watchlist, Swing &amp; Day…']\n",
      "tweets len =  5\n",
      "tweets len =  5\n",
      "2020-04-06 00:00:00\n",
      "AMZN = ticker, tweet_data =  ['$AMZN NEW ARTICLE : Amazon says it could soon begin testing some warehouse workers for the coronavirus https://t.co/HhjXPMF42v Get all the latest $AMZN related news here : https://t.co/OgSjJfshVt https://t.co/QS247pgobW', 'BOOM 💰💰 Come Join US \\n$fb $aapl $amzn $nflx $googl $bidu $roku $spy $amd $nvda $tsla $ba $baba $shop For  Daily Powerful Watchlist, Swing &amp; Day Option Trading Alerts  Paypal monthly link in bio, $149.99 DM for biweekly link $84.99 #trading #optionstrader #Money https://t.co/kgQyF8bQc5', 'RT @Sandro_power: Live stream on now $AAPL $SPY $AMZN $BA $AMD I explain a market update and the big picture    https://t.co/U9wfHSXorE. af…', 'RT @GoingGreenPicks: $AMZN, MIST READ ARTICLE FOR SHORTS AND LONGS: https://t.co/herAvAXx8k $GRNF $GE $BBY $CGC $NFLX $FB $GM $LUV $UAL $MT…', 'RT @Sandro_power: Live stream tonight on my YouTube Channel  PowerTargetTrades at 9:45pm EST Canada Fiqure out your time zone to match my t…']\n",
      "tweets len =  5\n",
      "tweets len =  5\n",
      "2020-04-09 00:00:00\n",
      "AMZN = ticker, tweet_data =  ['Robertson: This Is The Market\\'s \"Last Call\" For Investors https://t.co/mSgPwAFrcD $SPY $QQQ $DJIA $DIA #stockmarket #investing #finance #stocks #gold #silver $SLV $TWTR $GLD $AAPL $TSLA $AMZN $NFLX $AMD $INTC #economy', '@JustinTrudeau What about @VaxilBio $VXL lead drug Mtbuvax to prevent infections , David Gorren Israel ? $VXL $PFE $AZN $AMZN $GOOG $FB $T \\n\\nhttps://t.co/nO8KiGdwJz', 'RT @AmitayYaniv: @markminervini Industrial\\n$Swir \\n$insg \\n$iivi \\n$akts\\n$rmbs\\n$nvda\\n\\nHealthcare\\n$tdoc \\n$Lvgo \\n$Dxcm \\n$Edit \\n$nvta \\n$gh\\n\\nConsu…', 'RT @gualestrit: Walmart Grocery supera a Amazon como app de compras más descargada.\\n\\n$WMT $AMZN\\n\\nhttps://t.co/XLKqKiuaiW https://t.co/kes5u…']\n",
      "tweets len =  4\n",
      "tweets len =  4\n",
      "2020-04-10 00:00:00\n",
      "AMZN = ticker, tweet_data =  ['Stocks will revisit their #coronavirus crash low, and here’s when to expect it https://t.co/P5yS0dkbIW $SPY $QQQ $DJIA $DIA #stockmarket #investing #finance #stocks #gold #silver $SLV $TWTR $GLD $AAPL $TSLA $AMZN $NFLX $AMD $INTC #economy', 'RT @vincent13031925: Biggest mistakes of the century:\\n\\nFrom before,\\n\\nApple $AAPL is only a PC maker\\n\\nAmazon $AMZN is only a bookstore \\n\\nGoo…', 'RT @jscherniack: Scan 4/13/20 \\n\\nhttps://t.co/k4z2f5tvMr\\n\\n$LVGO $CHWY $AAPL $AMZN $NFLX $HAL $SLB $BBBY $WYNN $USO $OXY $FB $SHOP ++++ more…', '#COVID19 $AMZN $ibio $AAPL $GOOG $FB $TSLA $AIM $f $SONA $NYMT $PFE $T $BRK.A $BRK.B #COVIDー19 #vaccine \\n\\n$VXL\\n\\nMTBUVAX - TREATMENT \\n\\nhttps://t.co/EcDRz6UHHF', 'RT @duckman1717: Watch List: $AMZN, $DXCM, $IPHI, $NVDA, $AMD, $CNC, $AMED, $ZM, $DOCU, $NET, $LVGO, $TEAM, $NFLX, $NLOK, $QLYS, $OKTA, $BY…', 'RT @arnabch01: @FriseSally @Marinella_Maria @MariangelaSant8 @sminaev2015 @angelicagallegs @YukariKingdom18 @mhall55nine @eoff_sylvia @Mont…']\n",
      "tweets len =  6\n",
      "tweets len =  6\n",
      "2020-04-11 00:00:00\n",
      "AMZN = ticker, tweet_data =  [\"You'll Be Shocked to Find Out What ETF’s the Fed Is Buying - my article for @crushthestreet https://t.co/OdgqPb1fal $SPY $QQQ $DJIA $DIA #stockmarket #investing #finance #stocks #gold #silver $SLV $TWTR $GLD $AAPL $TSLA $AMZN $NFLX $AMD $INTC #economy #fed $HYG $JNK #bonds #etfs\", 'RT @vincent13031925: Biggest mistakes of the century:\\n\\nFrom before,\\n\\nApple $AAPL is only a PC maker\\n\\nAmazon $AMZN is only a bookstore \\n\\nGoo…', 'RT @WaltStreetPro: Oh man... Now we know who is advising the Fed 😂😂 \\n\\n$SPY $QQQ $AMZN $AAPL $MSFT https://t.co/fEHCqhFnT3', 'RT @WingGirlTrade: OPTIONS &amp; CANDLESTICK CHARTING Training Courses \\n\\n** Learn To Trade Options (Course) https://t.co/zEPwvM6ZNk\\n\\n** Underst…', 'RT @mTradingMedia: FREE A.I. \"Trade of the Week\" being released Monday morning.\\nYou will get entry,exit &amp; target price points, with chart a…', 'RT @TrendSpider: $AMZN #AMZN Largest ascending triangle ever? https://t.co/NjjlS4PIoD']\n",
      "tweets len =  6\n",
      "tweets len =  6\n"
     ]
    }
   ],
   "source": [
    "%run testmain.py"
   ]
  },
  {
   "cell_type": "code",
   "execution_count": 2,
   "metadata": {},
   "outputs": [
    {
     "name": "stdout",
     "output_type": "stream",
     "text": [
      "Nội dung tệp CSV:\n"
     ]
    },
    {
     "data": {
      "text/html": [
       "<div>\n",
       "<style scoped>\n",
       "    .dataframe tbody tr th:only-of-type {\n",
       "        vertical-align: middle;\n",
       "    }\n",
       "\n",
       "    .dataframe tbody tr th {\n",
       "        vertical-align: top;\n",
       "    }\n",
       "\n",
       "    .dataframe thead th {\n",
       "        text-align: right;\n",
       "    }\n",
       "</style>\n",
       "<table border=\"1\" class=\"dataframe\">\n",
       "  <thead>\n",
       "    <tr style=\"text-align: right;\">\n",
       "      <th></th>\n",
       "      <th>ticker</th>\n",
       "      <th>summary</th>\n",
       "      <th>target</th>\n",
       "      <th>date</th>\n",
       "      <th>technical_indicator</th>\n",
       "    </tr>\n",
       "  </thead>\n",
       "  <tbody>\n",
       "    <tr>\n",
       "      <th>0</th>\n",
       "      <td>AMZN</td>\n",
       "      <td>2020-04-02\\nAmazon (AMZN) banned N95 and surgi...</td>\n",
       "      <td>Positive</td>\n",
       "      <td>2020-04-07</td>\n",
       "      <td>SMA_5: 97.42\\nEMA_5: 98.33\\nMACD: 0.73\\nMACD_S...</td>\n",
       "    </tr>\n",
       "    <tr>\n",
       "      <th>1</th>\n",
       "      <td>AMZN</td>\n",
       "      <td>2020-04-15\\nThe Pentagon awarded a $10 billion...</td>\n",
       "      <td>Negative</td>\n",
       "      <td>2020-04-17</td>\n",
       "      <td>SMA_5: 115.43\\nEMA_5: 115.08\\nMACD: 5.54\\nMACD...</td>\n",
       "    </tr>\n",
       "  </tbody>\n",
       "</table>\n",
       "</div>"
      ],
      "text/plain": [
       "  ticker                                            summary    target  \\\n",
       "0   AMZN  2020-04-02\\nAmazon (AMZN) banned N95 and surgi...  Positive   \n",
       "1   AMZN  2020-04-15\\nThe Pentagon awarded a $10 billion...  Negative   \n",
       "\n",
       "         date                                technical_indicator  \n",
       "0  2020-04-07  SMA_5: 97.42\\nEMA_5: 98.33\\nMACD: 0.73\\nMACD_S...  \n",
       "1  2020-04-17  SMA_5: 115.43\\nEMA_5: 115.08\\nMACD: 5.54\\nMACD...  "
      ]
     },
     "execution_count": 2,
     "metadata": {},
     "output_type": "execute_result"
    }
   ],
   "source": [
    "import pandas as pd\n",
    "# Đọc tệp CSV\n",
    "df_loaded = pd.read_csv(\"data_sample2.csv\")\n",
    "\n",
    "# Hiển thị nội dung DataFrame\n",
    "print(\"Nội dung tệp CSV:\")\n",
    "# print(df_loaded)\n",
    "df_loaded['summary']\n",
    "df_loaded = df_loaded[:2]\n",
    "df_loaded"
   ]
  },
  {
   "cell_type": "code",
   "execution_count": 3,
   "metadata": {},
   "outputs": [
    {
     "name": "stdout",
     "output_type": "stream",
     "text": [
      "Loaded Train Agents.\n",
      "self.target, self.prediction Positive  ///////// \n",
      "self.is_finished() =  False       not self.is_correct() =  True\n",
      "Facts:\n",
      "2020-04-02\n",
      "Amazon (AMZN) banned N95 and surgical mask sales to the general public due to supply shortages caused by the COVID-19 pandemic. Additionally, Amazon announced that it has filled 80,000 out of the 100,000 jobs it announced last month.\n",
      "\n",
      "2020-04-05\n",
      "The tweets are not relevant or specific to the AMZN (Amazon) stock.\n",
      "\n",
      "Technical Indicators:\n",
      "SMA_5: 97.42\n",
      "EMA_5: 98.33\n",
      "MACD: 0.73\n",
      "MACD_SIGNAL: -0.1\n",
      "MACD_HIST: 0.83\n",
      "RSI: 70.53\n",
      "BB_UPPER: 102.76\n",
      "BB_LOWER: 85.13\n",
      "BB_MIDDLE: 93.94\n",
      "OBV: 396,412,000.0\n",
      "ADX: 15.59\n",
      "DMP: 27.43\n",
      "DMN: 17.77\n",
      "\n",
      "Price Movement: Positive  \n",
      "Explanation: Amazon reported significant supply chain challenges affecting N95 and surgical mask availability due to COVID-19, which could impact demand but was offset by news of job fillings. The strong upward trend indicated by the technical indicators—MACD above the signal line with positive history, moderate RSI, and ADX indicating a bullish trend—suggests that despite short-term challenges, the stock is expected to rise.\n",
      "\n",
      "\n",
      "\n",
      "self.target, self.prediction Positive  ///////// Positive\n",
      "self.target, self.prediction Negative  ///////// \n",
      "self.is_finished() =  False       not self.is_correct() =  True\n",
      "Facts:\n",
      "2020-04-15\n",
      "The Pentagon awarded a $10 billion Jedi contract to Microsoft over Amazon.\n",
      "Amazon's stock price reached a new all-time high due to unprecedented demand during the coronavirus pandemic.\n",
      "\n",
      "Technical Indicators:\n",
      "SMA_5: 115.43\n",
      "EMA_5: 115.08\n",
      "MACD: 5.54\n",
      "MACD_SIGNAL: 3.01\n",
      "MACD_HIST: 2.52\n",
      "RSI: 84.24\n",
      "BB_UPPER: 118.79\n",
      "BB_LOWER: 84.78\n",
      "BB_MIDDLE: 101.79\n",
      "OBV: 898,602,000.0\n",
      "ADX: 29.2\n",
      "DMP: 44.12\n",
      "DMN: 10.91\n",
      "\n",
      "Price Movement: (1) Positive  \n",
      "The price movement for AMZN stock is expected to be Positive.  \n",
      "\n",
      "(2) **Explanation:**  \n",
      "On 2020-04-15, Amazon faced a potential competition from Microsoft in a $10 billion Jedi contract, which might have implications despite Amazon's strong position in other sectors. However, during the COVID-19 pandemic, Amazon's stock reached a new all-time high due to increased demand for e-commerce services, highlighting its resilience and growth potential. Technical indicators such as a bullish MACD, overbought RSI (84.24), positive On-Balancing Volume (OBV: 898 million), and strong ADX (29.2) suggest ongoing bullish momentum. The stock is currently near the BB_MIDDLE with room for further gains toward BB_UPPER at 118.79, indicating sustained strength in the short term.\n",
      "\n",
      "\n",
      "\n",
      "self.target, self.prediction Negative  ///////// (1)\n",
      "aslmjdlasmdl\n",
      "self.target, self.prediction Positive  ///////// Positive\n",
      "self.target, self.prediction Negative  ///////// (1)\n",
      "self.target, self.prediction Positive  ///////// Positive\n",
      "self.target, self.prediction Negative  ///////// (1)\n",
      "Finished Trial 0, Correct: 1, Incorrect: 1\n"
     ]
    }
   ],
   "source": [
    "from explain_module.util import summarize_trial, remove_reflections, save_results#, save_agents\n",
    "from explain_module.agents import PredictReflectAgent\n",
    "\n",
    "import os, json\n",
    "\n",
    "agent_cls = PredictReflectAgent\n",
    "agents = [agent_cls(row['ticker'], row['summary'], row['target'], row['technical_indicator']) for _, row in df_loaded.iterrows()]\n",
    "print(\"Loaded Train Agents.\")\n",
    "agents\n",
    "\n",
    "for agent in agents:\n",
    "    agent.run()\n",
    "    # break\n",
    "\n",
    "    if agent.is_correct():\n",
    "        prompt = agent._build_agent_prompt()\n",
    "        response = agent.scratchpad.split('Price Movement: ')[-1]\n",
    "        sample = {\"instruction\": prompt, \"input\": \"\", \"output\": response}\n",
    "\n",
    "print(\"aslmjdlasmdl\")\n",
    "correct, incorrect = summarize_trial(agents)\n",
    "print(f'Finished Trial 0, Correct: {len(correct)}, Incorrect: {len(incorrect)}')\n",
    "        "
   ]
  },
  {
   "cell_type": "markdown",
   "metadata": {},
   "source": [
    "## test_explain"
   ]
  },
  {
   "cell_type": "code",
   "execution_count": 3,
   "metadata": {},
   "outputs": [
    {
     "name": "stdout",
     "output_type": "stream",
     "text": [
      "Args in experiment:\n",
      "Nội dung tệp CSV:\n",
      "Loaded Train Agents.\n",
      "Facts:\n",
      "2020-04-02\n",
      "Amazon (AMZN) recently banned the sale of N95 and surgical masks to the general public. \n",
      "Amazon has already filled 80,000 of the 100,000 jobs it announced last month.\n",
      "\n",
      "Price Movement: "
     ]
    },
    {
     "ename": "RetryError",
     "evalue": "RetryError[<Future at 0x2370dceeaf0 state=finished raised OpenAIError>]",
     "output_type": "error",
     "traceback": [
      "\u001b[1;31m---------------------------------------------------------------------------\u001b[0m",
      "\u001b[1;31mOpenAIError\u001b[0m                               Traceback (most recent call last)",
      "File \u001b[1;32mc:\\Users\\Admin\\miniconda3\\envs\\min_ds-env\\lib\\site-packages\\tenacity\\__init__.py:470\u001b[0m, in \u001b[0;36mRetrying.__call__\u001b[1;34m(self, fn, *args, **kwargs)\u001b[0m\n\u001b[0;32m    469\u001b[0m \u001b[38;5;28;01mtry\u001b[39;00m:\n\u001b[1;32m--> 470\u001b[0m     result \u001b[38;5;241m=\u001b[39m fn(\u001b[38;5;241m*\u001b[39margs, \u001b[38;5;241m*\u001b[39m\u001b[38;5;241m*\u001b[39mkwargs)\n\u001b[0;32m    471\u001b[0m \u001b[38;5;28;01mexcept\u001b[39;00m \u001b[38;5;167;01mBaseException\u001b[39;00m:  \u001b[38;5;66;03m# noqa: B902\u001b[39;00m\n",
      "File \u001b[1;32me:\\Khóa Luận Tốt Nghiệp\\predicting stock  based on LLM\\office\\Learning to Generate Explainable Stock Predictions using Self-Reflective Large Language Models\\sep-main\\utils\\llm.py:32\u001b[0m, in \u001b[0;36mOpenAILLM.__call__\u001b[1;34m(self, prompt)\u001b[0m\n\u001b[0;32m     31\u001b[0m messages \u001b[38;5;241m=\u001b[39m [{\u001b[38;5;124m\"\u001b[39m\u001b[38;5;124mrole\u001b[39m\u001b[38;5;124m\"\u001b[39m: \u001b[38;5;124m\"\u001b[39m\u001b[38;5;124muser\u001b[39m\u001b[38;5;124m\"\u001b[39m, \u001b[38;5;124m\"\u001b[39m\u001b[38;5;124mcontent\u001b[39m\u001b[38;5;124m\"\u001b[39m: prompt}]\n\u001b[1;32m---> 32\u001b[0m completion \u001b[38;5;241m=\u001b[39m \u001b[43mopenai\u001b[49m\u001b[38;5;241;43m.\u001b[39;49m\u001b[43mchat\u001b[49m\u001b[38;5;241;43m.\u001b[39;49m\u001b[43mcompletions\u001b[49m\u001b[38;5;241m.\u001b[39mcreate(model\u001b[38;5;241m=\u001b[39m\u001b[38;5;28mself\u001b[39m\u001b[38;5;241m.\u001b[39mmodel, messages\u001b[38;5;241m=\u001b[39mmessages)\n\u001b[0;32m     33\u001b[0m response \u001b[38;5;241m=\u001b[39m completion\u001b[38;5;241m.\u001b[39mchoices[\u001b[38;5;241m0\u001b[39m]\u001b[38;5;241m.\u001b[39mmessage\u001b[38;5;241m.\u001b[39mcontent\n",
      "File \u001b[1;32mc:\\Users\\Admin\\miniconda3\\envs\\min_ds-env\\lib\\site-packages\\openai\\_utils\\_proxy.py:20\u001b[0m, in \u001b[0;36mLazyProxy.__getattr__\u001b[1;34m(self, attr)\u001b[0m\n\u001b[0;32m     19\u001b[0m \u001b[38;5;28;01mdef\u001b[39;00m \u001b[38;5;21m__getattr__\u001b[39m(\u001b[38;5;28mself\u001b[39m, attr: \u001b[38;5;28mstr\u001b[39m) \u001b[38;5;241m-\u001b[39m\u001b[38;5;241m>\u001b[39m \u001b[38;5;28mobject\u001b[39m:\n\u001b[1;32m---> 20\u001b[0m     proxied \u001b[38;5;241m=\u001b[39m \u001b[38;5;28;43mself\u001b[39;49m\u001b[38;5;241;43m.\u001b[39;49m\u001b[43m__get_proxied__\u001b[49m\u001b[43m(\u001b[49m\u001b[43m)\u001b[49m\n\u001b[0;32m     21\u001b[0m     \u001b[38;5;28;01mif\u001b[39;00m \u001b[38;5;28misinstance\u001b[39m(proxied, LazyProxy):\n",
      "File \u001b[1;32mc:\\Users\\Admin\\miniconda3\\envs\\min_ds-env\\lib\\site-packages\\openai\\_utils\\_proxy.py:55\u001b[0m, in \u001b[0;36mLazyProxy.__get_proxied__\u001b[1;34m(self)\u001b[0m\n\u001b[0;32m     54\u001b[0m \u001b[38;5;28;01mdef\u001b[39;00m \u001b[38;5;21m__get_proxied__\u001b[39m(\u001b[38;5;28mself\u001b[39m) \u001b[38;5;241m-\u001b[39m\u001b[38;5;241m>\u001b[39m T:\n\u001b[1;32m---> 55\u001b[0m     \u001b[38;5;28;01mreturn\u001b[39;00m \u001b[38;5;28;43mself\u001b[39;49m\u001b[38;5;241;43m.\u001b[39;49m\u001b[43m__load__\u001b[49m\u001b[43m(\u001b[49m\u001b[43m)\u001b[49m\n",
      "File \u001b[1;32mc:\\Users\\Admin\\miniconda3\\envs\\min_ds-env\\lib\\site-packages\\openai\\_module_client.py:12\u001b[0m, in \u001b[0;36mChatProxy.__load__\u001b[1;34m(self)\u001b[0m\n\u001b[0;32m     10\u001b[0m \u001b[38;5;129m@override\u001b[39m\n\u001b[0;32m     11\u001b[0m \u001b[38;5;28;01mdef\u001b[39;00m \u001b[38;5;21m__load__\u001b[39m(\u001b[38;5;28mself\u001b[39m) \u001b[38;5;241m-\u001b[39m\u001b[38;5;241m>\u001b[39m resources\u001b[38;5;241m.\u001b[39mChat:\n\u001b[1;32m---> 12\u001b[0m     \u001b[38;5;28;01mreturn\u001b[39;00m \u001b[43m_load_client\u001b[49m\u001b[43m(\u001b[49m\u001b[43m)\u001b[49m\u001b[38;5;241m.\u001b[39mchat\n",
      "File \u001b[1;32mc:\\Users\\Admin\\miniconda3\\envs\\min_ds-env\\lib\\site-packages\\openai\\__init__.py:323\u001b[0m, in \u001b[0;36m_load_client\u001b[1;34m()\u001b[0m\n\u001b[0;32m    321\u001b[0m     \u001b[38;5;28;01mreturn\u001b[39;00m _client\n\u001b[1;32m--> 323\u001b[0m _client \u001b[38;5;241m=\u001b[39m \u001b[43m_ModuleClient\u001b[49m\u001b[43m(\u001b[49m\n\u001b[0;32m    324\u001b[0m \u001b[43m    \u001b[49m\u001b[43mapi_key\u001b[49m\u001b[38;5;241;43m=\u001b[39;49m\u001b[43mapi_key\u001b[49m\u001b[43m,\u001b[49m\n\u001b[0;32m    325\u001b[0m \u001b[43m    \u001b[49m\u001b[43morganization\u001b[49m\u001b[38;5;241;43m=\u001b[39;49m\u001b[43morganization\u001b[49m\u001b[43m,\u001b[49m\n\u001b[0;32m    326\u001b[0m \u001b[43m    \u001b[49m\u001b[43mproject\u001b[49m\u001b[38;5;241;43m=\u001b[39;49m\u001b[43mproject\u001b[49m\u001b[43m,\u001b[49m\n\u001b[0;32m    327\u001b[0m \u001b[43m    \u001b[49m\u001b[43mbase_url\u001b[49m\u001b[38;5;241;43m=\u001b[39;49m\u001b[43mbase_url\u001b[49m\u001b[43m,\u001b[49m\n\u001b[0;32m    328\u001b[0m \u001b[43m    \u001b[49m\u001b[43mtimeout\u001b[49m\u001b[38;5;241;43m=\u001b[39;49m\u001b[43mtimeout\u001b[49m\u001b[43m,\u001b[49m\n\u001b[0;32m    329\u001b[0m \u001b[43m    \u001b[49m\u001b[43mmax_retries\u001b[49m\u001b[38;5;241;43m=\u001b[39;49m\u001b[43mmax_retries\u001b[49m\u001b[43m,\u001b[49m\n\u001b[0;32m    330\u001b[0m \u001b[43m    \u001b[49m\u001b[43mdefault_headers\u001b[49m\u001b[38;5;241;43m=\u001b[39;49m\u001b[43mdefault_headers\u001b[49m\u001b[43m,\u001b[49m\n\u001b[0;32m    331\u001b[0m \u001b[43m    \u001b[49m\u001b[43mdefault_query\u001b[49m\u001b[38;5;241;43m=\u001b[39;49m\u001b[43mdefault_query\u001b[49m\u001b[43m,\u001b[49m\n\u001b[0;32m    332\u001b[0m \u001b[43m    \u001b[49m\u001b[43mhttp_client\u001b[49m\u001b[38;5;241;43m=\u001b[39;49m\u001b[43mhttp_client\u001b[49m\u001b[43m,\u001b[49m\n\u001b[0;32m    333\u001b[0m \u001b[43m\u001b[49m\u001b[43m)\u001b[49m\n\u001b[0;32m    334\u001b[0m \u001b[38;5;28;01mreturn\u001b[39;00m _client\n",
      "File \u001b[1;32mc:\\Users\\Admin\\miniconda3\\envs\\min_ds-env\\lib\\site-packages\\openai\\_client.py:104\u001b[0m, in \u001b[0;36mOpenAI.__init__\u001b[1;34m(self, api_key, organization, project, base_url, timeout, max_retries, default_headers, default_query, http_client, _strict_response_validation)\u001b[0m\n\u001b[0;32m    103\u001b[0m \u001b[38;5;28;01mif\u001b[39;00m api_key \u001b[38;5;129;01mis\u001b[39;00m \u001b[38;5;28;01mNone\u001b[39;00m:\n\u001b[1;32m--> 104\u001b[0m     \u001b[38;5;28;01mraise\u001b[39;00m OpenAIError(\n\u001b[0;32m    105\u001b[0m         \u001b[38;5;124m\"\u001b[39m\u001b[38;5;124mThe api_key client option must be set either by passing api_key to the client or by setting the OPENAI_API_KEY environment variable\u001b[39m\u001b[38;5;124m\"\u001b[39m\n\u001b[0;32m    106\u001b[0m     )\n\u001b[0;32m    107\u001b[0m \u001b[38;5;28mself\u001b[39m\u001b[38;5;241m.\u001b[39mapi_key \u001b[38;5;241m=\u001b[39m api_key\n",
      "\u001b[1;31mOpenAIError\u001b[0m: The api_key client option must be set either by passing api_key to the client or by setting the OPENAI_API_KEY environment variable",
      "\nThe above exception was the direct cause of the following exception:\n",
      "\u001b[1;31mRetryError\u001b[0m                                Traceback (most recent call last)",
      "File \u001b[1;32mE:\\Khóa Luận Tốt Nghiệp\\predicting stock  based on LLM\\office\\Learning to Generate Explainable Stock Predictions using Self-Reflective Large Language Models\\sep-main\\test_explain.py:97\u001b[0m\n\u001b[0;32m     94\u001b[0m agents\n\u001b[0;32m     96\u001b[0m \u001b[38;5;28;01mfor\u001b[39;00m agent \u001b[38;5;129;01min\u001b[39;00m agents:\n\u001b[1;32m---> 97\u001b[0m     \u001b[43magent\u001b[49m\u001b[38;5;241;43m.\u001b[39;49m\u001b[43mrun\u001b[49m\u001b[43m(\u001b[49m\u001b[43m)\u001b[49m\n\u001b[0;32m     99\u001b[0m     \u001b[38;5;28;01mif\u001b[39;00m agent\u001b[38;5;241m.\u001b[39mis_correct():\n\u001b[0;32m    100\u001b[0m         prompt \u001b[38;5;241m=\u001b[39m agent\u001b[38;5;241m.\u001b[39m_build_agent_prompt()\n",
      "File \u001b[1;32me:\\Khóa Luận Tốt Nghiệp\\predicting stock  based on LLM\\office\\Learning to Generate Explainable Stock Predictions using Self-Reflective Large Language Models\\sep-main\\explain_module\\agents.py:82\u001b[0m, in \u001b[0;36mPredictReflectAgent.run\u001b[1;34m(self, reset)\u001b[0m\n\u001b[0;32m     79\u001b[0m \u001b[38;5;28;01mif\u001b[39;00m \u001b[38;5;28mself\u001b[39m\u001b[38;5;241m.\u001b[39mis_finished() \u001b[38;5;129;01mand\u001b[39;00m \u001b[38;5;129;01mnot\u001b[39;00m \u001b[38;5;28mself\u001b[39m\u001b[38;5;241m.\u001b[39mis_correct():\n\u001b[0;32m     80\u001b[0m     \u001b[38;5;28mself\u001b[39m\u001b[38;5;241m.\u001b[39mreflect()\n\u001b[1;32m---> 82\u001b[0m \u001b[43mPredictAgent\u001b[49m\u001b[38;5;241;43m.\u001b[39;49m\u001b[43mrun\u001b[49m\u001b[43m(\u001b[49m\u001b[38;5;28;43mself\u001b[39;49m\u001b[43m,\u001b[49m\u001b[43m \u001b[49m\u001b[43mreset\u001b[49m\u001b[38;5;241;43m=\u001b[39;49m\u001b[43mreset\u001b[49m\u001b[43m)\u001b[49m\n",
      "File \u001b[1;32me:\\Khóa Luận Tốt Nghiệp\\predicting stock  based on LLM\\office\\Learning to Generate Explainable Stock Predictions using Self-Reflective Large Language Models\\sep-main\\explain_module\\agents.py:34\u001b[0m, in \u001b[0;36mPredictAgent.run\u001b[1;34m(self, reset)\u001b[0m\n\u001b[0;32m     31\u001b[0m \u001b[38;5;28mself\u001b[39m\u001b[38;5;241m.\u001b[39mscratchpad \u001b[38;5;241m+\u001b[39m\u001b[38;5;241m=\u001b[39m facts\n\u001b[0;32m     32\u001b[0m \u001b[38;5;28mprint\u001b[39m(facts, end\u001b[38;5;241m=\u001b[39m\u001b[38;5;124m\"\u001b[39m\u001b[38;5;124m\"\u001b[39m)\n\u001b[1;32m---> 34\u001b[0m \u001b[38;5;28mself\u001b[39m\u001b[38;5;241m.\u001b[39mscratchpad \u001b[38;5;241m+\u001b[39m\u001b[38;5;241m=\u001b[39m \u001b[38;5;28;43mself\u001b[39;49m\u001b[38;5;241;43m.\u001b[39;49m\u001b[43mprompt_agent\u001b[49m\u001b[43m(\u001b[49m\u001b[43m)\u001b[49m\n\u001b[0;32m     35\u001b[0m response \u001b[38;5;241m=\u001b[39m \u001b[38;5;28mself\u001b[39m\u001b[38;5;241m.\u001b[39mscratchpad\u001b[38;5;241m.\u001b[39msplit(\u001b[38;5;124m'\u001b[39m\u001b[38;5;124mPrice Movement: \u001b[39m\u001b[38;5;124m'\u001b[39m)[\u001b[38;5;241m-\u001b[39m\u001b[38;5;241m1\u001b[39m]\n\u001b[0;32m     36\u001b[0m \u001b[38;5;28mself\u001b[39m\u001b[38;5;241m.\u001b[39mprediction \u001b[38;5;241m=\u001b[39m response\u001b[38;5;241m.\u001b[39msplit()[\u001b[38;5;241m0\u001b[39m]\n",
      "File \u001b[1;32me:\\Khóa Luận Tốt Nghiệp\\predicting stock  based on LLM\\office\\Learning to Generate Explainable Stock Predictions using Self-Reflective Large Language Models\\sep-main\\explain_module\\agents.py:42\u001b[0m, in \u001b[0;36mPredictAgent.prompt_agent\u001b[1;34m(self)\u001b[0m\n\u001b[0;32m     41\u001b[0m \u001b[38;5;28;01mdef\u001b[39;00m \u001b[38;5;21mprompt_agent\u001b[39m(\u001b[38;5;28mself\u001b[39m) \u001b[38;5;241m-\u001b[39m\u001b[38;5;241m>\u001b[39m \u001b[38;5;28mstr\u001b[39m:\n\u001b[1;32m---> 42\u001b[0m     \u001b[38;5;28;01mreturn\u001b[39;00m \u001b[38;5;28;43mself\u001b[39;49m\u001b[38;5;241;43m.\u001b[39;49m\u001b[43mllm\u001b[49m\u001b[43m(\u001b[49m\u001b[38;5;28;43mself\u001b[39;49m\u001b[38;5;241;43m.\u001b[39;49m\u001b[43m_build_agent_prompt\u001b[49m\u001b[43m(\u001b[49m\u001b[43m)\u001b[49m\u001b[43m)\u001b[49m\n",
      "File \u001b[1;32mc:\\Users\\Admin\\miniconda3\\envs\\min_ds-env\\lib\\site-packages\\tenacity\\__init__.py:330\u001b[0m, in \u001b[0;36mBaseRetrying.wraps.<locals>.wrapped_f\u001b[1;34m(*args, **kw)\u001b[0m\n\u001b[0;32m    326\u001b[0m \u001b[38;5;129m@functools\u001b[39m\u001b[38;5;241m.\u001b[39mwraps(\n\u001b[0;32m    327\u001b[0m     f, functools\u001b[38;5;241m.\u001b[39mWRAPPER_ASSIGNMENTS \u001b[38;5;241m+\u001b[39m (\u001b[38;5;124m\"\u001b[39m\u001b[38;5;124m__defaults__\u001b[39m\u001b[38;5;124m\"\u001b[39m, \u001b[38;5;124m\"\u001b[39m\u001b[38;5;124m__kwdefaults__\u001b[39m\u001b[38;5;124m\"\u001b[39m)\n\u001b[0;32m    328\u001b[0m )\n\u001b[0;32m    329\u001b[0m \u001b[38;5;28;01mdef\u001b[39;00m \u001b[38;5;21mwrapped_f\u001b[39m(\u001b[38;5;241m*\u001b[39margs: t\u001b[38;5;241m.\u001b[39mAny, \u001b[38;5;241m*\u001b[39m\u001b[38;5;241m*\u001b[39mkw: t\u001b[38;5;241m.\u001b[39mAny) \u001b[38;5;241m-\u001b[39m\u001b[38;5;241m>\u001b[39m t\u001b[38;5;241m.\u001b[39mAny:\n\u001b[1;32m--> 330\u001b[0m     \u001b[38;5;28;01mreturn\u001b[39;00m \u001b[38;5;28mself\u001b[39m(f, \u001b[38;5;241m*\u001b[39margs, \u001b[38;5;241m*\u001b[39m\u001b[38;5;241m*\u001b[39mkw)\n",
      "File \u001b[1;32mc:\\Users\\Admin\\miniconda3\\envs\\min_ds-env\\lib\\site-packages\\tenacity\\__init__.py:467\u001b[0m, in \u001b[0;36mRetrying.__call__\u001b[1;34m(self, fn, *args, **kwargs)\u001b[0m\n\u001b[0;32m    465\u001b[0m retry_state \u001b[38;5;241m=\u001b[39m RetryCallState(retry_object\u001b[38;5;241m=\u001b[39m\u001b[38;5;28mself\u001b[39m, fn\u001b[38;5;241m=\u001b[39mfn, args\u001b[38;5;241m=\u001b[39margs, kwargs\u001b[38;5;241m=\u001b[39mkwargs)\n\u001b[0;32m    466\u001b[0m \u001b[38;5;28;01mwhile\u001b[39;00m \u001b[38;5;28;01mTrue\u001b[39;00m:\n\u001b[1;32m--> 467\u001b[0m     do \u001b[38;5;241m=\u001b[39m \u001b[38;5;28;43mself\u001b[39;49m\u001b[38;5;241;43m.\u001b[39;49m\u001b[43miter\u001b[49m\u001b[43m(\u001b[49m\u001b[43mretry_state\u001b[49m\u001b[38;5;241;43m=\u001b[39;49m\u001b[43mretry_state\u001b[49m\u001b[43m)\u001b[49m\n\u001b[0;32m    468\u001b[0m     \u001b[38;5;28;01mif\u001b[39;00m \u001b[38;5;28misinstance\u001b[39m(do, DoAttempt):\n\u001b[0;32m    469\u001b[0m         \u001b[38;5;28;01mtry\u001b[39;00m:\n",
      "File \u001b[1;32mc:\\Users\\Admin\\miniconda3\\envs\\min_ds-env\\lib\\site-packages\\tenacity\\__init__.py:368\u001b[0m, in \u001b[0;36mBaseRetrying.iter\u001b[1;34m(self, retry_state)\u001b[0m\n\u001b[0;32m    366\u001b[0m result \u001b[38;5;241m=\u001b[39m \u001b[38;5;28;01mNone\u001b[39;00m\n\u001b[0;32m    367\u001b[0m \u001b[38;5;28;01mfor\u001b[39;00m action \u001b[38;5;129;01min\u001b[39;00m \u001b[38;5;28mself\u001b[39m\u001b[38;5;241m.\u001b[39miter_state\u001b[38;5;241m.\u001b[39mactions:\n\u001b[1;32m--> 368\u001b[0m     result \u001b[38;5;241m=\u001b[39m \u001b[43maction\u001b[49m\u001b[43m(\u001b[49m\u001b[43mretry_state\u001b[49m\u001b[43m)\u001b[49m\n\u001b[0;32m    369\u001b[0m \u001b[38;5;28;01mreturn\u001b[39;00m result\n",
      "File \u001b[1;32mc:\\Users\\Admin\\miniconda3\\envs\\min_ds-env\\lib\\site-packages\\tenacity\\__init__.py:411\u001b[0m, in \u001b[0;36mBaseRetrying._post_stop_check_actions.<locals>.exc_check\u001b[1;34m(rs)\u001b[0m\n\u001b[0;32m    409\u001b[0m \u001b[38;5;28;01mif\u001b[39;00m \u001b[38;5;28mself\u001b[39m\u001b[38;5;241m.\u001b[39mreraise:\n\u001b[0;32m    410\u001b[0m     \u001b[38;5;28;01mraise\u001b[39;00m retry_exc\u001b[38;5;241m.\u001b[39mreraise()\n\u001b[1;32m--> 411\u001b[0m \u001b[38;5;28;01mraise\u001b[39;00m retry_exc \u001b[38;5;28;01mfrom\u001b[39;00m \u001b[38;5;21;01mfut\u001b[39;00m\u001b[38;5;21;01m.\u001b[39;00m\u001b[38;5;21;01mexception\u001b[39;00m()\n",
      "\u001b[1;31mRetryError\u001b[0m: RetryError[<Future at 0x2370dceeaf0 state=finished raised OpenAIError>]"
     ]
    }
   ],
   "source": [
    "%run test_explain.py"
   ]
  },
  {
   "cell_type": "code",
   "execution_count": 3,
   "metadata": {},
   "outputs": [
    {
     "name": "stdout",
     "output_type": "stream",
     "text": [
      "Given a list of facts, estimate their overall impact on the price movement of AMZN stock. Give your response in this format:\n",
      "(1) Price Movement, which should be either Positive or Negative.\n",
      "(2) Explanation, which should be in a single, short paragraph.\n",
      "Here are some examples:\n",
      "Facts:\n",
      "2016-07-26\n",
      "Apple reported Q3 2016 earnings: Revenue of $42.4 billion, beating expectations. They sold 40.4 million iPhones, 9.9 million iPads, and 4.2 million Macs during that quarter.\n",
      "Apple's earnings beat expectations, causing the stock to rise by almost 5% in after-hours trading.\n",
      "Apple had $231.5 billion in cash reserves, enough to potentially acquire companies like Uber, Tesla, Twitter, Airbnb, Netflix, Snapchat, and SpaceX and still have billions left.\n",
      "Apple's China sales were down around 29% sequentially and 33% YoY.\n",
      "Despite declining unit sales, Apple's revenue was boosted by more expensive iPad Pro models.\n",
      "Apple Pay accounted for 3/4 of contactless payments in the US.\n",
      "Apple's services business (App Store, Apple Music, etc.) was projected to be the size of a Fortune 500 company in the next year.\n",
      "Apple was reported to be working on a car project called Project Titan, with Bob Mansfield leading it.\n",
      "The Apple Pencil was granted a patent to work with a Mac's trackpad.\n",
      "Apple faced declining iPhone sales, but the company focused on promoting apps and services.\n",
      "The stock price experienced fluctuations after the earnings report, with significant after-hours gains.\n",
      "Apple's market weight rating was reiterated by Wells Fargo, with a target price of $120.00.\n",
      "\n",
      "Price Movement: Positive\n",
      "\n",
      "Explanation: Apple reported strong Q3 2016 earnings, surpassing revenue expectations and delivering robust sales figures across its product lines, including iPhones, iPads, and Macs. This performance exceeded market projections and triggered a nearly 5% increase in the stock's after-hours trading. Additionally, Apple's substantial cash reserves of $231.5 billion, capable of facilitating major acquisitions, demonstrated the company's financial stability and growth potential. Despite challenges in China, Apple's diverse revenue sources, including higher-priced iPad Pro models and the dominant Apple Pay in US contactless payments, contributed positively to its overall Price Movement. The promising growth trajectory of Apple's services business added further optimism. While facing declining iPhone sales, Apple's strategic focus on promoting apps and services reflected adaptability in response to changing market dynamics. The consistent support from Wells Fargo with a reiterated market weight rating and target price also reinforced investor confidence. The stock's fluctuations were notable but aligned with the positive earnings report, showcasing the market's responsiveness to Apple's performance.\n",
      "\n",
      "Facts:\n",
      "2016-04-26\n",
      "Apple reported its Q2 2016 earnings, missing both profit and revenue estimates.\n",
      "Apple's revenue for the quarter was $50.56 billion, falling short of the estimated $52 billion.\n",
      "The company's adjusted earnings per share (EPS) was $1.90, lower than the expected $2.00.\n",
      "This marks the first time in 13 years that Apple experienced a quarterly decline in revenue.\n",
      "iPhone sales experienced a decline for the first time since its debut in 2007.\n",
      "The company's guidance for the next quarter indicates expected sales of $41 billion to $43 billion.\n",
      "Apple's dividend yield increased to 2.3%.\n",
      "CEO Tim Cook attributed the challenges to strong macroeconomic headwinds, especially in China.\n",
      "Despite the earnings miss, Apple announced plans to raise its dividend and return $50 billion more to shareholders.\n",
      "Apple's stock price experienced a decline of around 4.8% in after-hours trading following the earnings report.\n",
      "\n",
      "Price Movement: Negative\n",
      "\n",
      "Explanation: Apple reported disappointing Q2 2016 earnings, missing both profit and revenue estimates. The company's revenue and adjusted earnings per share fell short of expectations, marking the first quarterly revenue decline in 13 years. iPhone sales, a cornerstone of Apple's business, experienced their first-ever decline since the product's debut in 2007. The weaker-than-expected guidance for the next quarter further dampened investor Price Movement. The CEO's acknowledgment of strong macroeconomic headwinds, particularly in China, indicated external challenges affecting the company's performance. Despite announcing plans to increase dividends and return more to shareholders, the stock price plunged around 4.8% in after-hours trading following the earnings report. Overall, these factors collectively indicate a negative Price Movement surrounding AAPL stock due to its underwhelming financial performance and market outlook.\n",
      "\n",
      "(END OF EXAMPLES)\n",
      "\n",
      "\n",
      "\n",
      "Facts:\n",
      "2020-04-02\n",
      "Amazon (AMZN) recently banned the sale of N95 and surgical masks to the general public. \n",
      "Amazon has already filled 80,000 of the 100,000 jobs it announced last month.\n",
      "\n",
      "Price Movement:\n"
     ]
    }
   ],
   "source": [
    "import json\n",
    "\n",
    "with open(\"./data/merge_sample.json\", \"r\", encoding=\"utf-8\") as file:\n",
    "    data = [json.loads(line) for line in file]\n",
    "\n",
    "# print(data)  # Output: [{'name': 'Alice', 'age': 25}, {'name': 'Bob', 'age': 30}]\n",
    "print(data[4]['instruction'])\n",
    "\n"
   ]
  },
  {
   "cell_type": "code",
   "execution_count": 10,
   "metadata": {},
   "outputs": [
    {
     "data": {
      "text/plain": [
       "[[{'user_input': \"Given a list of facts, estimate their overall impact on the price movement of AMZN stock. Give your response in this format:\\n(1) Price Movement, which should be either Positive or Negative.\\n(2) Explanation, which should be in a single, short paragraph.\\nHere are some examples:\\nFacts:\\n2016-07-26\\nApple reported Q3 2016 earnings: Revenue of $42.4 billion, beating expectations. They sold 40.4 million iPhones, 9.9 million iPads, and 4.2 million Macs during that quarter.\\nApple's earnings beat expectations, causing the stock to rise by almost 5% in after-hours trading.\\nApple had $231.5 billion in cash reserves, enough to potentially acquire companies like Uber, Tesla, Twitter, Airbnb, Netflix, Snapchat, and SpaceX and still have billions left.\\nApple's China sales were down around 29% sequentially and 33% YoY.\\nDespite declining unit sales, Apple's revenue was boosted by more expensive iPad Pro models.\\nApple Pay accounted for 3/4 of contactless payments in the US.\\nApple's services business (App Store, Apple Music, etc.) was projected to be the size of a Fortune 500 company in the next year.\\nApple was reported to be working on a car project called Project Titan, with Bob Mansfield leading it.\\nThe Apple Pencil was granted a patent to work with a Mac's trackpad.\\nApple faced declining iPhone sales, but the company focused on promoting apps and services.\\nThe stock price experienced fluctuations after the earnings report, with significant after-hours gains.\\nApple's market weight rating was reiterated by Wells Fargo, with a target price of $120.00.\\n\\nPrice Movement: Positive\\n\\nExplanation: Apple reported strong Q3 2016 earnings, surpassing revenue expectations and delivering robust sales figures across its product lines, including iPhones, iPads, and Macs. This performance exceeded market projections and triggered a nearly 5% increase in the stock's after-hours trading. Additionally, Apple's substantial cash reserves of $231.5 billion, capable of facilitating major acquisitions, demonstrated the company's financial stability and growth potential. Despite challenges in China, Apple's diverse revenue sources, including higher-priced iPad Pro models and the dominant Apple Pay in US contactless payments, contributed positively to its overall Price Movement. The promising growth trajectory of Apple's services business added further optimism. While facing declining iPhone sales, Apple's strategic focus on promoting apps and services reflected adaptability in response to changing market dynamics. The consistent support from Wells Fargo with a reiterated market weight rating and target price also reinforced investor confidence. The stock's fluctuations were notable but aligned with the positive earnings report, showcasing the market's responsiveness to Apple's performance.\\n\\nFacts:\\n2016-04-26\\nApple reported its Q2 2016 earnings, missing both profit and revenue estimates.\\nApple's revenue for the quarter was $50.56 billion, falling short of the estimated $52 billion.\\nThe company's adjusted earnings per share (EPS) was $1.90, lower than the expected $2.00.\\nThis marks the first time in 13 years that Apple experienced a quarterly decline in revenue.\\niPhone sales experienced a decline for the first time since its debut in 2007.\\nThe company's guidance for the next quarter indicates expected sales of $41 billion to $43 billion.\\nApple's dividend yield increased to 2.3%.\\nCEO Tim Cook attributed the challenges to strong macroeconomic headwinds, especially in China.\\nDespite the earnings miss, Apple announced plans to raise its dividend and return $50 billion more to shareholders.\\nApple's stock price experienced a decline of around 4.8% in after-hours trading following the earnings report.\\n\\nPrice Movement: Negative\\n\\nExplanation: Apple reported disappointing Q2 2016 earnings, missing both profit and revenue estimates. The company's revenue and adjusted earnings per share fell short of expectations, marking the first quarterly revenue decline in 13 years. iPhone sales, a cornerstone of Apple's business, experienced their first-ever decline since the product's debut in 2007. The weaker-than-expected guidance for the next quarter further dampened investor Price Movement. The CEO's acknowledgment of strong macroeconomic headwinds, particularly in China, indicated external challenges affecting the company's performance. Despite announcing plans to increase dividends and return more to shareholders, the stock price plunged around 4.8% in after-hours trading following the earnings report. Overall, these factors collectively indicate a negative Price Movement surrounding AAPL stock due to its underwhelming financial performance and market outlook.\\n\\n(END OF EXAMPLES)\\n\\nFacts2020-04-17\\nAmazon is one of the five largest stocks in the S&P500.\\nThere is a large accumulation of volume in Amazon's stock.\\nAmazon's stock experienced extreme greed in February and extreme fear in March.\\n\\n2020-04-18\\nJeff Bezos' annual shareholder letter is recommended reading for investors.\\nThe S&P500 is now more concentrated in the 5 largest stocks, including Microsoft, Apple, Facebook, Google, and Amazon (AMZN), than ever before.\\nTech giants like Microsoft, Apple, Google, and Amazon faced significant declines in returns during the 2008 financial crisis.\\nIn 2020, Microsoft's returns were up 14%, while Apple's returns were down 3%.\\nAs of now, Microsoft has a market cap of $1.36 trillion, Apple has a market cap of $1.24 trillion, and Amazon has a market cap of an unknown amount.\\n\\nPrice Movement:\",\n",
       "   'completion_a': \"Neutral\\n\\nExplanation: The facts provided do not provide a clear indication of the overall impact on the price movement of AMZN stock. While Amazon being one of the five largest stocks in the S&P500 suggests a potentially positive influence, the accumulation of volume and extreme greed followed by extreme fear may suggest volatility and potential negative impact. The concentration of the S&P500 in the five largest stocks, including Amazon, could be seen as both positive and negative, depending on market conditions. The information about the returns of Microsoft and Apple provides further context but does not directly relate to Amazon's price movement. The lack of specific information about Amazon's market cap makes it difficult to assess its impact on price movement. Overall, the provided facts do not indicate a clear positive or negative Price Movement for AMZN stock.\",\n",
       "   'completion_b': \"Positive\\n\\nExplanation: The fact that Amazon is one of the five largest stocks in the S&P500 indicates its significant influence on the overall market and suggests a positive price movement. The large accumulation of volume in Amazon's stock further supports this notion, as it implies strong investor interest and potential buying pressure. Additionally, the extreme greed in February and extreme fear in March experienced by Amazon's stock indicates significant market fluctuations, which could lead to higher price volatility but ultimately result in a positive price movement. The suggestion that Jeff Bezos' annual shareholder letter is recommended reading for investors highlights the influential nature of his leadership and strategic insights, potentially impacting investor sentiment towards the stock. Furthermore, the increasing concentration of the S&P500 in the five largest stocks, including Amazon, suggests a market preference for these tech giants, which can positively impact their price movement. Lastly, the fact that Microsoft's returns were up 14% in 2020 while Apple's returns were down 3%, coupled with Amazon's unknown market cap, suggests the potential for Amazon to outperform its competitors and experience positive price movement.\"}]]"
      ]
     },
     "execution_count": 10,
     "metadata": {},
     "output_type": "execute_result"
    }
   ],
   "source": [
    "import json\n",
    "\n",
    "with open(\"./datasets/comparison_data.json\", \"r\", encoding=\"utf-8\") as file:\n",
    "    datasets = [json.loads(line) for line in file]\n",
    "\n",
    "datasets"
   ]
  },
  {
   "cell_type": "code",
   "execution_count": 2,
   "metadata": {},
   "outputs": [
    {
     "name": "stderr",
     "output_type": "stream",
     "text": [
      "c:\\Users\\Admin\\miniconda3\\envs\\min_ds-env\\lib\\site-packages\\tqdm\\auto.py:21: TqdmWarning: IProgress not found. Please update jupyter and ipywidgets. See https://ipywidgets.readthedocs.io/en/stable/user_install.html\n",
      "  from .autonotebook import tqdm as notebook_tqdm\n"
     ]
    },
    {
     "data": {
      "text/plain": [
       "DatasetDict({\n",
       "    train: Dataset({\n",
       "        features: ['instruction', 'input', 'output'],\n",
       "        num_rows: 7\n",
       "    })\n",
       "})"
      ]
     },
     "execution_count": 2,
     "metadata": {},
     "output_type": "execute_result"
    }
   ],
   "source": [
    "from datasets import load_dataset\n",
    "DATA_PATH ='./data/merge_sample.json'\n",
    "data = load_dataset(\"json\", data_files=DATA_PATH)\n",
    "data"
   ]
  },
  {
   "cell_type": "code",
   "execution_count": 3,
   "metadata": {},
   "outputs": [
    {
     "name": "stderr",
     "output_type": "stream",
     "text": [
      "Generating train split: 1 examples [00:00, 36.22 examples/s]\n"
     ]
    },
    {
     "data": {
      "text/plain": [
       "Dataset({\n",
       "    features: ['user_input', 'completion_a', 'completion_b'],\n",
       "    num_rows: 1\n",
       "})"
      ]
     },
     "execution_count": 3,
     "metadata": {},
     "output_type": "execute_result"
    }
   ],
   "source": [
    "dataset_name = \"./datasets/\"\n",
    "train_dataset = load_dataset(dataset_name, split=\"train\")\n",
    "train_dataset"
   ]
  },
  {
   "cell_type": "markdown",
   "metadata": {},
   "source": [
    "## test_predict"
   ]
  },
  {
   "cell_type": "code",
   "execution_count": 1,
   "metadata": {},
   "outputs": [
    {
     "name": "stdout",
     "output_type": "stream",
     "text": [
      "Args in experiment:\n"
     ]
    },
    {
     "name": "stderr",
     "output_type": "stream",
     "text": [
      "C:\\Users\\Admin\\AppData\\Local\\Packages\\PythonSoftwareFoundation.Python.3.12_qbz5n2kfra8p0\\LocalCache\\local-packages\\Python312\\site-packages\\tqdm\\auto.py:21: TqdmWarning: IProgress not found. Please update jupyter and ipywidgets. See https://ipywidgets.readthedocs.io/en/stable/user_install.html\n",
      "  from .autonotebook import tqdm as notebook_tqdm\n"
     ]
    },
    {
     "ename": "ImportError",
     "evalue": "cannot import name 'prepare_model_for_int8_training' from 'peft' (C:\\Users\\Admin\\AppData\\Local\\Packages\\PythonSoftwareFoundation.Python.3.12_qbz5n2kfra8p0\\LocalCache\\local-packages\\Python312\\site-packages\\peft\\__init__.py)",
     "output_type": "error",
     "traceback": [
      "\u001b[1;31m---------------------------------------------------------------------------\u001b[0m",
      "\u001b[1;31mImportError\u001b[0m                               Traceback (most recent call last)",
      "File \u001b[1;32mE:\\Khóa Luận Tốt Nghiệp\\predicting stock  based on LLM\\office\\CODE\\KLTN\\sep-main-update\\test_predict.py:80\u001b[0m\n\u001b[0;32m     77\u001b[0m \u001b[38;5;66;03m# print(args)\u001b[39;00m\n\u001b[0;32m     79\u001b[0m \u001b[38;5;28;01mfrom\u001b[39;00m\u001b[38;5;250m \u001b[39m\u001b[38;5;21;01mpredict_module\u001b[39;00m\u001b[38;5;21;01m.\u001b[39;00m\u001b[38;5;21;01mmerge_peft_adapter\u001b[39;00m\u001b[38;5;250m \u001b[39m\u001b[38;5;28;01mimport\u001b[39;00m merge_peft_adapter\n\u001b[1;32m---> 80\u001b[0m \u001b[38;5;28;01mfrom\u001b[39;00m\u001b[38;5;250m \u001b[39m\u001b[38;5;21;01mpredict_module\u001b[39;00m\u001b[38;5;21;01m.\u001b[39;00m\u001b[38;5;21;01msupervised_finetune\u001b[39;00m\u001b[38;5;250m \u001b[39m\u001b[38;5;28;01mimport\u001b[39;00m supervised_finetune\n\u001b[0;32m     82\u001b[0m \u001b[38;5;66;03m# Train supervised policy\u001b[39;00m\n\u001b[0;32m     83\u001b[0m supervised_finetune(args)\n",
      "File \u001b[1;32mE:\\Khóa Luận Tốt Nghiệp\\predicting stock  based on LLM\\office\\CODE\\KLTN\\sep-main-update\\predict_module\\supervised_finetune.py:1\u001b[0m\n\u001b[1;32m----> 1\u001b[0m \u001b[38;5;28;01mfrom\u001b[39;00m\u001b[38;5;250m \u001b[39m\u001b[38;5;21;01mpeft\u001b[39;00m\u001b[38;5;250m \u001b[39m\u001b[38;5;28;01mimport\u001b[39;00m (\n\u001b[0;32m      2\u001b[0m     prepare_model_for_int8_training,\n\u001b[0;32m      3\u001b[0m     LoraConfig,\n\u001b[0;32m      4\u001b[0m     get_peft_model,\n\u001b[0;32m      5\u001b[0m     get_peft_model_state_dict,\n\u001b[0;32m      6\u001b[0m     set_peft_model_state_dict,\n\u001b[0;32m      7\u001b[0m )\n\u001b[0;32m      8\u001b[0m \u001b[38;5;28;01mfrom\u001b[39;00m\u001b[38;5;250m \u001b[39m\u001b[38;5;21;01mtransformers\u001b[39;00m\u001b[38;5;250m \u001b[39m\u001b[38;5;28;01mimport\u001b[39;00m LlamaForCausalLM, LlamaTokenizer\n\u001b[0;32m      9\u001b[0m \u001b[38;5;28;01mimport\u001b[39;00m\u001b[38;5;250m \u001b[39m\u001b[38;5;21;01mos\u001b[39;00m\n",
      "\u001b[1;31mImportError\u001b[0m: cannot import name 'prepare_model_for_int8_training' from 'peft' (C:\\Users\\Admin\\AppData\\Local\\Packages\\PythonSoftwareFoundation.Python.3.12_qbz5n2kfra8p0\\LocalCache\\local-packages\\Python312\\site-packages\\peft\\__init__.py)"
     ]
    }
   ],
   "source": [
    "%run test_predict.py"
   ]
  },
  {
   "cell_type": "code",
   "execution_count": 1,
   "metadata": {},
   "outputs": [
    {
     "name": "stdout",
     "output_type": "stream",
     "text": [
      "The capital of France is Paris.\n"
     ]
    }
   ],
   "source": [
    "import ollama\n",
    "\n",
    "class DeepSeekLLM:\n",
    "    def __init__(self, model=\"deepseek-r1\"):\n",
    "        self.model = model\n",
    "\n",
    "    def __call__(self, prompt):\n",
    "        response = ollama.chat(model=self.model, messages=[{\"role\": \"user\", \"content\": prompt}])\n",
    "        content = response[\"message\"][\"content\"]\n",
    "        \n",
    "        # Cắt từ vị trí của </think>\n",
    "        if \"</think>\" in content:\n",
    "            content = content.split(\"</think>\", 1)[-1].strip()\n",
    "        \n",
    "        return content\n",
    "\n",
    "# Ví dụ sử dụng\n",
    "if __name__ == \"__main__\":\n",
    "    deepseek = DeepSeekLLM()\n",
    "    question = \"What is the capital of France?\"\n",
    "    answer = deepseek(question)\n",
    "    print(answer)\n"
   ]
  },
  {
   "cell_type": "code",
   "execution_count": 1,
   "metadata": {},
   "outputs": [
    {
     "name": "stdout",
     "output_type": "stream",
     "text": [
      "<think>\n",
      "\n",
      "</think>\n",
      "\n",
      "DeepSeek-R1-7B is a large language model that processes text in real-time, but the number of tokens it can generate or process in one go is limited only by the available system resources (such as memory and computational power). In practice, models like DeepSeek-R1-7B typically generate outputs in fixed-length chunks, often around 500-1000 tokens, depending on the specific configuration.\n",
      "\n",
      "If you're using a framework like the DeepSeek Engine or another platform that hosts DeepSeek-R1-7B, we recommend checking their documentation for specific details about token limits and usage policies. Always ensure you adhere to their guidelines to avoid any issues with your usage.\n"
     ]
    }
   ],
   "source": [
    "import ollama\n",
    "\n",
    "desiredModel = 'deepseek-r1'\n",
    "# questionToAsk = 'How to solve a quadratic equation x^2+5*x+6=0'\n",
    "questionToAsk = ''' How many tokens can deepseek r1 7b receive each time?'''\n",
    "\n",
    "\n",
    "response = ollama.chat(model=desiredModel, messages=[\n",
    "    {\n",
    "        'role': 'user',\n",
    "        'content': questionToAsk,\n",
    "    },\n",
    "])\n",
    "\n",
    "OllamaResponse = response['message']['content']\n",
    "\n",
    "print(OllamaResponse)\n",
    "\n",
    "# with open(\"OutputOllama.txt\", \"w\", encoding=\"utf-8\") as text_file:\n",
    "#     text_file.write(OllamaResponse)"
   ]
  }
 ],
 "metadata": {
  "kernelspec": {
   "display_name": "Python 3",
   "language": "python",
   "name": "python3"
  },
  "language_info": {
   "codemirror_mode": {
    "name": "ipython",
    "version": 3
   },
   "file_extension": ".py",
   "mimetype": "text/x-python",
   "name": "python",
   "nbconvert_exporter": "python",
   "pygments_lexer": "ipython3",
   "version": "3.12.9"
  }
 },
 "nbformat": 4,
 "nbformat_minor": 2
}
