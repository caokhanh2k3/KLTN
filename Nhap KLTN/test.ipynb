{
 "cells": [
  {
   "cell_type": "code",
   "execution_count": 9,
   "metadata": {},
   "outputs": [
    {
     "data": {
      "text/plain": [
       "\"Given a list of facts and a set of technical indicators, estimate their overall impact on the price movement of AMZN stock.\\n\\nProvide your response in this format:\\n\\nPrice Movement, which should be either Positive or Negative.\\nExplanation, which should be in a single, short paragraph, combining insights from both fundamental news and technical indicators.\\nExample Format:\\nFacts:\\n(Date)\\n\\n[Fundamental news and events related to AMZN, such as earnings reports, economic conditions, or company announcements.]\\nTechnical Indicators:\\nSMA_5: [Value]\\nEMA_5: [Value]\\nMACD: [Value]\\nMACD_SIGNAL: [Value]\\nMACD_HIST: [Value]\\nRSI: [Value]\\nBB_UPPER: [Value]\\nBB_LOWER: [Value]\\nBB_MIDDLE: [Value]\\nOBV: [Value]\\nADX: [Value]\\nDMP: [Value]\\nDMN: [Value]\\nPrice Movement: (Positive/Negative)\\nExplanation:\\nCombine fundamental analysis (news impact) with technical indicators to explain the likely price movement. Consider factors like momentum (MACD, RSI), trend strength (ADX, DMP/DMN), support/resistance (Bollinger Bands), and volume confirmation (OBV).\\nHere are some examples:\\nFacts: (2016-07-26)\\nApple reported Q3 2016 earnings: Revenue of $42.4 billion, beating expectations.\\nApple sold 40.4 million iPhones, 9.9 million iPads, and 4.2 million Macs during that quarter.\\nEarnings beat expectations, causing the stock to rise by almost 5% in after-hours trading.\\nApple had $231.5 billion in cash reserves, strengthening financial stability.\\nChina sales declined 29% sequentially and 33% YoY.\\nServices business (App Store, Apple Music, etc.) projected to be Fortune 500 size next year.\\nApple working on Project Titan (car project).\\nApple Pencil granted a patent for Mac's trackpad.\\nMarket weight rating reiterated by Wells Fargo, with a target price of $120.00.\\nTechnical Indicators:\\nSMA_5: 101.5\\nEMA_5: 102.2\\nMACD: 1.8\\nMACD_SIGNAL: 1.2\\nMACD_HIST: 0.6\\nRSI: 72\\nBB_UPPER: 110\\nBB_LOWER: 95\\nBB_MIDDLE: 102.5\\nOBV: 1,200,000,000\\nADX: 35\\nDMP: 30\\nDMN: 15\\nPrice Movement: Positive\\nExplanation:\\nApple’s strong Q3 2016 earnings, exceeding revenue expectations and showing robust product sales, drove after-hours gains of nearly 5%. Additionally, its cash reserves of $231.5 billion underscored financial stability, supporting investor confidence. Despite China’s sales decline, the growing services segment and innovation efforts (Project Titan, Apple Pencil patents) signaled long-term growth potential.\\n\\nFrom a technical standpoint, MACD > MACD_SIGNAL and a positive MACD_HIST confirm strong bullish momentum. RSI at 72 indicates the stock is approaching overbought territory but still has room for short-term gains. ADX at 35 suggests a strong trend, reinforced by DMP > DMN, indicating bullish strength. The stock is trading near BB_MIDDLE with upside potential toward BB_UPPER (110). OBV remains high, signaling strong accumulation.\\n\\nThese fundamental and technical factors together support a positive price movement, with a strong bullish trend likely to continue in the short term.\\n\\n(END OF EXAMPLES)\\n\\n\\nFacts: (2020-04-02)\\nAmazon (AMZN) recently banned the sale of N95 and surgical masks to the general public.\\nAmazon has already filled 80,000 of the 100,000 jobs it announced last month.\\nTechnical Indicators:\\nSMA_5: 1,940\\nEMA_5: 1,945\\nMACD: 15\\nMACD_SIGNAL: 10\\nMACD_HIST: 5\\nRSI: 65\\nBB_UPPER: 2,000\\nBB_LOWER: 1,850\\nBB_MIDDLE: 1,925\\nOBV: 3,200,000,000\\nADX: 30\\nDMP: 28\\nDMN: 18\\nPrice Movement:\""
      ]
     },
     "execution_count": 9,
     "metadata": {},
     "output_type": "execute_result"
    }
   ],
   "source": [
    "# Đọc nội dung từ file prompt.txt\n",
    "with open(\"prompt.txt\", \"r\", encoding=\"utf-8\") as file:\n",
    "    questionToAsk = file.read().strip()  # Loại bỏ khoảng trắng dư thừa\n",
    "questionToAsk"
   ]
  },
  {
   "cell_type": "code",
   "execution_count": 10,
   "metadata": {},
   "outputs": [
    {
     "name": "stdout",
     "output_type": "stream",
     "text": [
      "<think>\n",
      "Okay, so I need to figure out the price movement of AMZN stock based on the given facts and technical indicators. Let me start by looking at the facts first.\n",
      "\n",
      "The fact provided is from April 2, 2020, when Amazon banned the sale of N95 and surgical masks to the general public. That's interesting because during the COVID-19 pandemic, mask sales were booming across various retailers. By banning them from the general public, Amazon might be limiting their own supply as a result of the pandemic.\n",
      "\n",
      "Now, looking at the technical indicators:\n",
      "\n",
      "SMA_5 is 1,940.\n",
      "EMA_5 is 1,945.\n",
      "MACD is 15, MACD_SIGNAL is 10, so MACD_HIST is positive at 5.\n",
      "RSI is 65, which is above 50 but not extremely high. It might indicate some momentum but not overbought yet.\n",
      "BB_UPPER is 2,000, BB_LOWER is 1,850, so the stock is near BB_MIDDLE at 1,925. The OBV is 3.2 billion, which seems quite high, indicating strong positive volume.\n",
      "\n",
      "ADX is 30, DMP is 28, DMN is 18. All these indicators are pointing to a bullish trend since DMP (Positive Directional Movement) is higher than DMN (Negative Directional Movement), and ADX is moderately bullish at 30.\n",
      "\n",
      "Now, considering the facts: Amazon had filled 80k of 100k jobs they announced. This suggests that their operations are expanding, which could mean increased sales and thus higher earnings or stock performance. However, the ban on masks might have a negative impact if those were considered essential during the pandemic. But since Amazon has already filled part of their previously announced job roles, maybe they adjusted their production.\n",
      "\n",
      "Looking at the technical indicators: The high MACD and positive MACD_HIST suggests strong buying pressure. RSI at 65 is not overbought yet but shows some upward momentum. The OBV being high indicates that volume is supporting price action upwards. Bollinger Bands are tight, with the stock near the middle band, giving room for movement towards the upper band as support.\n",
      "\n",
      "Combining these factors: While there's a negative event (banning masks), which could affect demand temporarily, the strong positive technical indicators like high OBV, tight BBs, and positive MACD suggest that the upward trend is maintained. The fact that Amazon is expanding their workforce might indicate increased confidence in future earnings or growth, which can drive stock price up.\n",
      "\n",
      "So overall, despite the mask ban possibly reducing short-term demand, the strong fundamentals from earnings (even though not directly mentioned) along with positive technicals point towards a positive price movement.\n",
      "</think>\n",
      "\n",
      "**Price Movement: Positive**\n",
      "\n",
      "The combination of Amazon's expansionary hiring, supported by positive technical indicators such as high On-Balance Volume (OBV), bullish MACD momentum, and tight Bollinger Bands near the middle band, suggests that despite the temporary impact of banning N95 masks during the COVID-19 pandemic, the stock is likely to experience a positive price movement. The expansionary efforts indicate underlying strength and resilience in the company's operations, which can drive upward price action.\n"
     ]
    }
   ],
   "source": [
    "import ollama\n",
    "\n",
    "desiredModel = 'deepseek-r1'\n",
    "# questionToAsk = 'How to solve a quadratic equation x^2+5*x+6=0'\n",
    "\n",
    "response = ollama.chat(model=desiredModel, messages=[\n",
    "    {\n",
    "        'role': 'user',\n",
    "        'content': questionToAsk,\n",
    "    },\n",
    "])\n",
    "\n",
    "OllamaResponse = response['message']['content']\n",
    "\n",
    "print(OllamaResponse)\n",
    "\n",
    "# with open(\"OutputOllama.txt\", \"w\", encoding=\"utf-8\") as text_file:\n",
    "#     text_file.write(OllamaResponse)"
   ]
  },
  {
   "cell_type": "code",
   "execution_count": 12,
   "metadata": {},
   "outputs": [],
   "source": [
    "with open(\"OutputOllama.txt\", \"w\", encoding=\"utf-8\") as text_file:\n",
    "    text_file.write(OllamaResponse)"
   ]
  }
 ],
 "metadata": {
  "kernelspec": {
   "display_name": "Python 3",
   "language": "python",
   "name": "python3"
  },
  "language_info": {
   "codemirror_mode": {
    "name": "ipython",
    "version": 3
   },
   "file_extension": ".py",
   "mimetype": "text/x-python",
   "name": "python",
   "nbconvert_exporter": "python",
   "pygments_lexer": "ipython3",
   "version": "3.12.9"
  }
 },
 "nbformat": 4,
 "nbformat_minor": 2
}
